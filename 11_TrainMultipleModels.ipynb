{
 "cells": [
  {
   "cell_type": "markdown",
   "id": "5a61a8cb-e8cf-45ae-b861-183950506dd0",
   "metadata": {},
   "source": [
    "# Simple notebook to train multiple models"
   ]
  },
  {
   "cell_type": "code",
   "execution_count": 12,
   "id": "9fd27a80-2c11-4e01-b57f-0e1eb179b7f2",
   "metadata": {},
   "outputs": [],
   "source": [
    "#!pip install papermill"
   ]
  },
  {
   "cell_type": "code",
   "execution_count": 13,
   "id": "2059e2dc-d37c-461e-b1e7-1c80f76392cb",
   "metadata": {},
   "outputs": [],
   "source": [
    "%run ./commons.ipynb"
   ]
  },
  {
   "cell_type": "code",
   "execution_count": 14,
   "id": "e4394c7f-15f5-4bd7-9235-495154b29bfa",
   "metadata": {},
   "outputs": [
    {
     "name": "stdout",
     "output_type": "stream",
     "text": [
      "state id: CA\n",
      "item id: FOODS_3_823\n"
     ]
    },
    {
     "data": {
      "application/vnd.jupyter.widget-view+json": {
       "model_id": "b9b69f2e7cea44499db5940aee7d339f",
       "version_major": 2,
       "version_minor": 0
      },
      "text/plain": [
       "Executing:   0%|          | 0/41 [00:00<?, ?cell/s]"
      ]
     },
     "metadata": {},
     "output_type": "display_data"
    },
    {
     "name": "stdout",
     "output_type": "stream",
     "text": [
      "state id: WI\n",
      "item id: FOODS_3_823\n"
     ]
    },
    {
     "data": {
      "application/vnd.jupyter.widget-view+json": {
       "model_id": "94dab04e93f2416dadd01cfb9f4ae4dc",
       "version_major": 2,
       "version_minor": 0
      },
      "text/plain": [
       "Executing:   0%|          | 0/41 [00:00<?, ?cell/s]"
      ]
     },
     "metadata": {},
     "output_type": "display_data"
    },
    {
     "name": "stdout",
     "output_type": "stream",
     "text": [
      "state id: TX\n",
      "item id: FOODS_3_823\n"
     ]
    },
    {
     "data": {
      "application/vnd.jupyter.widget-view+json": {
       "model_id": "b85f73c453ff454bacdd7940a55a78ea",
       "version_major": 2,
       "version_minor": 0
      },
      "text/plain": [
       "Executing:   0%|          | 0/41 [00:00<?, ?cell/s]"
      ]
     },
     "metadata": {},
     "output_type": "display_data"
    },
    {
     "name": "stdout",
     "output_type": "stream",
     "text": [
      "state id: CA\n",
      "item id: HOBBIES_1_001\n"
     ]
    },
    {
     "data": {
      "application/vnd.jupyter.widget-view+json": {
       "model_id": "df5e9911a00d4ca38232fe7020355f24",
       "version_major": 2,
       "version_minor": 0
      },
      "text/plain": [
       "Executing:   0%|          | 0/41 [00:00<?, ?cell/s]"
      ]
     },
     "metadata": {},
     "output_type": "display_data"
    },
    {
     "name": "stdout",
     "output_type": "stream",
     "text": [
      "state id: WI\n",
      "item id: HOBBIES_1_001\n"
     ]
    },
    {
     "data": {
      "application/vnd.jupyter.widget-view+json": {
       "model_id": "8434933bbb0945f6b56e6a3f4f4f9fe4",
       "version_major": 2,
       "version_minor": 0
      },
      "text/plain": [
       "Executing:   0%|          | 0/41 [00:00<?, ?cell/s]"
      ]
     },
     "metadata": {},
     "output_type": "display_data"
    },
    {
     "name": "stdout",
     "output_type": "stream",
     "text": [
      "state id: TX\n",
      "item id: HOBBIES_1_001\n"
     ]
    },
    {
     "data": {
      "application/vnd.jupyter.widget-view+json": {
       "model_id": "be2522efc6ff4e24a551d57ad415e815",
       "version_major": 2,
       "version_minor": 0
      },
      "text/plain": [
       "Executing:   0%|          | 0/41 [00:00<?, ?cell/s]"
      ]
     },
     "metadata": {},
     "output_type": "display_data"
    },
    {
     "name": "stdout",
     "output_type": "stream",
     "text": [
      "state id: CA\n",
      "item id: HOUSEHOLD_1_001\n"
     ]
    },
    {
     "data": {
      "application/vnd.jupyter.widget-view+json": {
       "model_id": "8e2daeadac074f0a8f265fbf560b7c37",
       "version_major": 2,
       "version_minor": 0
      },
      "text/plain": [
       "Executing:   0%|          | 0/41 [00:00<?, ?cell/s]"
      ]
     },
     "metadata": {},
     "output_type": "display_data"
    },
    {
     "name": "stdout",
     "output_type": "stream",
     "text": [
      "state id: WI\n",
      "item id: HOUSEHOLD_1_001\n"
     ]
    },
    {
     "data": {
      "application/vnd.jupyter.widget-view+json": {
       "model_id": "9f7212637e39419b98d761a32c23f78a",
       "version_major": 2,
       "version_minor": 0
      },
      "text/plain": [
       "Executing:   0%|          | 0/41 [00:00<?, ?cell/s]"
      ]
     },
     "metadata": {},
     "output_type": "display_data"
    },
    {
     "name": "stdout",
     "output_type": "stream",
     "text": [
      "state id: TX\n",
      "item id: HOUSEHOLD_1_001\n"
     ]
    },
    {
     "data": {
      "application/vnd.jupyter.widget-view+json": {
       "model_id": "e43d9f2d2d73453c848df1da8d905b8c",
       "version_major": 2,
       "version_minor": 0
      },
      "text/plain": [
       "Executing:   0%|          | 0/41 [00:00<?, ?cell/s]"
      ]
     },
     "metadata": {},
     "output_type": "display_data"
    }
   ],
   "source": [
    "import papermill as pm\n",
    "import os\n",
    "\n",
    "\n",
    "params_list = [\n",
    "    (\"CA\", \"FOODS_3_823\"),\n",
    "    (\"WI\", \"FOODS_3_823\"),\n",
    "    (\"TX\", \"FOODS_3_823\"),\n",
    "    (\"CA\", \"HOBBIES_1_001\"),\n",
    "    (\"WI\", \"HOBBIES_1_001\"),\n",
    "    (\"TX\", \"HOBBIES_1_001\"),\n",
    "    (\"CA\", \"HOUSEHOLD_1_001\"),\n",
    "    (\"WI\", \"HOUSEHOLD_1_001\"),\n",
    "    (\"TX\", \"HOUSEHOLD_1_001\"),\n",
    "]\n",
    "\n",
    "notebooks_store_path = \"./papermill_notebooks\"\n",
    "os.makedirs(notebooks_store_path, exist_ok=True)\n",
    "\n",
    "\n",
    "for params in params_list:\n",
    "    state_id, item_id = params\n",
    "    notebook_name = f'01_{state_id}_{item_id.split(\"_\")[0]}_model_training.ipynb'\n",
    "    notebook_full_path = os.path.join(notebooks_store_path, notebook_name)\n",
    "\n",
    "    print(\"state id:\", state_id)\n",
    "    print(\"item id:\", item_id)\n",
    "\n",
    "    # Execute the notebook with new parameters\n",
    "    pm.execute_notebook(\n",
    "        \"01_ModelTraining.ipynb\",\n",
    "        notebook_full_path,\n",
    "        parameters={\"train_state\": state_id, \"train_selected_item\": item_id},\n",
    "    )"
   ]
  },
  {
   "cell_type": "code",
   "execution_count": null,
   "id": "9ef5861f-b16a-48b5-a975-371c4cfb6f2b",
   "metadata": {},
   "outputs": [],
   "source": []
  }
 ],
 "metadata": {
  "kernelspec": {
   "display_name": "retail-demand-forecast",
   "language": "python",
   "name": "retail_demand_forecast_venv"
  },
  "language_info": {
   "codemirror_mode": {
    "name": "ipython",
    "version": 3
   },
   "file_extension": ".py",
   "mimetype": "text/x-python",
   "name": "python",
   "nbconvert_exporter": "python",
   "pygments_lexer": "ipython3",
   "version": "3.10.12"
  }
 },
 "nbformat": 4,
 "nbformat_minor": 5
}
