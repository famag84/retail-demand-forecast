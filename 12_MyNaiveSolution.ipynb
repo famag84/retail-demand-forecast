{
 "cells": [
  {
   "cell_type": "markdown",
   "id": "8075efeb-00d8-48ce-a1a4-bdaa2a1fd6bd",
   "metadata": {},
   "source": [
    "# My Navie Submission"
   ]
  },
  {
   "cell_type": "code",
   "execution_count": 28,
   "id": "cdd27ad4-2524-4969-8beb-0db495805570",
   "metadata": {},
   "outputs": [],
   "source": [
    "%run ./commons.ipynb"
   ]
  },
  {
   "cell_type": "code",
   "execution_count": 29,
   "id": "c2f1150d-8470-4419-8ee0-555f36812602",
   "metadata": {},
   "outputs": [],
   "source": [
    "import os\n",
    "import joblib\n",
    "from process import *\n",
    "from utils import (\n",
    "    get_custom_calendar,\n",
    "    get_input_data,\n",
    "    prepare_datasets,\n",
    "    plot_actual_vs_pred,\n",
    "    compute_metrics,\n",
    "    build_model_name,\n",
    ")"
   ]
  },
  {
   "cell_type": "code",
   "execution_count": 30,
   "id": "f7272b94-d6dc-45d3-9194-99330228376e",
   "metadata": {},
   "outputs": [],
   "source": [
    "def compute_submission(df_val, selected_ids):\n",
    "    submission = df_val[selected_ids + [\"d\", \"sales_predicted\"]].copy()\n",
    "    submission = (\n",
    "        submission.pivot_table(index=selected_ids, columns=\"d\", values=\"sales_predicted\", observed=True)\n",
    "        .round(0)\n",
    "        .reset_index()\n",
    "    )\n",
    "    submission.columns.name = None\n",
    "    return submission\n",
    "\n",
    "\n",
    "def test_volume(submission, df_val, d=\"d_1960\"):\n",
    "    s1 = df_val[df_val[\"d\"] == d].groupby(\"cat_id\", observed=True)[\"item_id\"].count()\n",
    "    s2 = submission.groupby(\"cat_id\", observed=True)[\"item_id\"].count()\n",
    "    assert (s1 == s2).all(), \"Something went wrong with data volue comparison!\"\n",
    "\n",
    "\n",
    "output_folder = \"./predicted_data\"\n",
    "data_path = \"data/m5/datasets\"\n",
    "data_dict = {\n",
    "    \"TRAINING_VAL_DATA\": \"sales_train_evaluation.csv\",\n",
    "    \"TRAINING_DATA\": \"sales_train_validation.csv\",\n",
    "    \"VALIDATION_DATA\": \"sales_test_validation.csv\",\n",
    "    \"TEST_DATA\": \"sales_test_evaluation.csv\",\n",
    "    \"CALENDAR\": \"calendar.csv\",\n",
    "    \"PRICE_DATA\": \"sell_prices.csv\",\n",
    "}\n",
    "\n",
    "\n",
    "params_list = [\n",
    "    (\"CA\", \"FOODS_3_823\"),\n",
    "    (\"WI\", \"FOODS_3_823\"),\n",
    "    (\"TX\", \"FOODS_3_823\"),\n",
    "    (\"CA\", \"HOBBIES_1_001\"),\n",
    "    (\"WI\", \"HOBBIES_1_001\"),\n",
    "    (\"TX\", \"HOBBIES_1_001\"),\n",
    "    (\"CA\", \"HOUSEHOLD_1_001\"),\n",
    "    (\"WI\", \"HOUSEHOLD_1_001\"),\n",
    "    (\"TX\", \"HOUSEHOLD_1_001\"),\n",
    "]"
   ]
  },
  {
   "cell_type": "code",
   "execution_count": 31,
   "id": "6ea8d830-d2d8-4c69-b3aa-8f3825d7ea38",
   "metadata": {},
   "outputs": [
    {
     "name": "stderr",
     "output_type": "stream",
     "text": [
      "\u001b[32m2025-01-28 16:34:42.938\u001b[0m | \u001b[34m\u001b[1mDEBUG   \u001b[0m | \u001b[36mprocess\u001b[0m:\u001b[36mload_prices\u001b[0m:\u001b[36m45\u001b[0m - \u001b[34m\u001b[1mBegin Loading Price Data...\u001b[0m\n",
      "\u001b[32m2025-01-28 16:34:44.495\u001b[0m | \u001b[34m\u001b[1mDEBUG   \u001b[0m | \u001b[36mprocess\u001b[0m:\u001b[36mload_calendar\u001b[0m:\u001b[36m30\u001b[0m - \u001b[34m\u001b[1mBegin Loading Calendar Data...\u001b[0m\n",
      "\u001b[32m2025-01-28 16:34:44.510\u001b[0m | \u001b[34m\u001b[1mDEBUG   \u001b[0m | \u001b[36mprocess\u001b[0m:\u001b[36mload_sales\u001b[0m:\u001b[36m62\u001b[0m - \u001b[34m\u001b[1mBegin Loading Sales Data...\u001b[0m\n"
     ]
    },
    {
     "data": {
      "text/plain": [
       "['models/v01_CA_FOODS_model.pkl',\n",
       " 'models/v01_WI_FOODS_model.pkl',\n",
       " 'models/v01_TX_FOODS_model.pkl',\n",
       " 'models/v01_CA_HOBBIES_model.pkl',\n",
       " 'models/v01_WI_HOBBIES_model.pkl',\n",
       " 'models/v01_TX_HOBBIES_model.pkl',\n",
       " 'models/v01_CA_HOUSEHOLD_model.pkl',\n",
       " 'models/v01_WI_HOUSEHOLD_model.pkl',\n",
       " 'models/v01_TX_HOUSEHOLD_model.pkl']"
      ]
     },
     "execution_count": 31,
     "metadata": {},
     "output_type": "execute_result"
    }
   ],
   "source": [
    "prices = load_prices(PATH_INPUT)\n",
    "calendar = get_custom_calendar()\n",
    "data_test = load_sales(\n",
    "    PATH_INPUT,\n",
    "    prices,\n",
    "    data_dict[\"TEST_DATA\"],\n",
    ")\n",
    "\n",
    "model_paths = [build_model_name(state_id=i[0], item_tag=i[1].split(\"_\")[0]) for i in params_list]\n",
    "model_paths"
   ]
  },
  {
   "cell_type": "code",
   "execution_count": 32,
   "id": "ad01bbc1-08ce-4c5c-a625-24581c2baaee",
   "metadata": {},
   "outputs": [
    {
     "name": "stdout",
     "output_type": "stream",
     "text": [
      "Data shape: (30490, 34)\n"
     ]
    },
    {
     "name": "stderr",
     "output_type": "stream",
     "text": [
      "\u001b[32m2025-01-28 16:34:52.156\u001b[0m | \u001b[1mINFO    \u001b[0m | \u001b[36mprocess\u001b[0m:\u001b[36mreduce_mem_usage\u001b[0m:\u001b[36m166\u001b[0m - \u001b[1mMem. usage decreased to 12.38 Mb (59.0% reduction)\u001b[0m\n"
     ]
    },
    {
     "name": "stdout",
     "output_type": "stream",
     "text": [
      "(5748, 33)\n",
      "File ./predicted_data/CA_FOODS_part.parquet created!\n"
     ]
    },
    {
     "name": "stderr",
     "output_type": "stream",
     "text": [
      "\u001b[32m2025-01-28 16:34:58.198\u001b[0m | \u001b[1mINFO    \u001b[0m | \u001b[36mprocess\u001b[0m:\u001b[36mreduce_mem_usage\u001b[0m:\u001b[36m166\u001b[0m - \u001b[1mMem. usage decreased to  9.62 Mb (58.1% reduction)\u001b[0m\n"
     ]
    },
    {
     "name": "stdout",
     "output_type": "stream",
     "text": [
      "(4311, 33)\n",
      "File ./predicted_data/WI_FOODS_part.parquet created!\n"
     ]
    },
    {
     "name": "stderr",
     "output_type": "stream",
     "text": [
      "\u001b[32m2025-01-28 16:35:04.287\u001b[0m | \u001b[1mINFO    \u001b[0m | \u001b[36mprocess\u001b[0m:\u001b[36mreduce_mem_usage\u001b[0m:\u001b[36m166\u001b[0m - \u001b[1mMem. usage decreased to  9.62 Mb (58.1% reduction)\u001b[0m\n"
     ]
    },
    {
     "name": "stdout",
     "output_type": "stream",
     "text": [
      "(4311, 33)\n",
      "File ./predicted_data/TX_FOODS_part.parquet created!\n"
     ]
    },
    {
     "name": "stderr",
     "output_type": "stream",
     "text": [
      "\u001b[32m2025-01-28 16:35:09.974\u001b[0m | \u001b[1mINFO    \u001b[0m | \u001b[36mprocess\u001b[0m:\u001b[36mreduce_mem_usage\u001b[0m:\u001b[36m166\u001b[0m - \u001b[1mMem. usage decreased to  5.61 Mb (55.7% reduction)\u001b[0m\n"
     ]
    },
    {
     "name": "stdout",
     "output_type": "stream",
     "text": [
      "(2260, 33)\n",
      "File ./predicted_data/CA_HOBBIES_part.parquet created!\n"
     ]
    },
    {
     "name": "stderr",
     "output_type": "stream",
     "text": [
      "\u001b[32m2025-01-28 16:35:13.536\u001b[0m | \u001b[1mINFO    \u001b[0m | \u001b[36mprocess\u001b[0m:\u001b[36mreduce_mem_usage\u001b[0m:\u001b[36m166\u001b[0m - \u001b[1mMem. usage decreased to  4.54 Mb (53.8% reduction)\u001b[0m\n"
     ]
    },
    {
     "name": "stdout",
     "output_type": "stream",
     "text": [
      "(1695, 33)\n",
      "File ./predicted_data/WI_HOBBIES_part.parquet created!\n"
     ]
    },
    {
     "name": "stderr",
     "output_type": "stream",
     "text": [
      "\u001b[32m2025-01-28 16:35:17.529\u001b[0m | \u001b[1mINFO    \u001b[0m | \u001b[36mprocess\u001b[0m:\u001b[36mreduce_mem_usage\u001b[0m:\u001b[36m166\u001b[0m - \u001b[1mMem. usage decreased to  4.54 Mb (53.8% reduction)\u001b[0m\n"
     ]
    },
    {
     "name": "stdout",
     "output_type": "stream",
     "text": [
      "(1695, 33)\n",
      "File ./predicted_data/TX_HOBBIES_part.parquet created!\n"
     ]
    },
    {
     "name": "stderr",
     "output_type": "stream",
     "text": [
      "\u001b[32m2025-01-28 16:35:22.948\u001b[0m | \u001b[1mINFO    \u001b[0m | \u001b[36mprocess\u001b[0m:\u001b[36mreduce_mem_usage\u001b[0m:\u001b[36m166\u001b[0m - \u001b[1mMem. usage decreased to  9.27 Mb (58.5% reduction)\u001b[0m\n"
     ]
    },
    {
     "name": "stdout",
     "output_type": "stream",
     "text": [
      "(4188, 33)\n",
      "File ./predicted_data/CA_HOUSEHOLD_part.parquet created!\n"
     ]
    },
    {
     "name": "stderr",
     "output_type": "stream",
     "text": [
      "\u001b[32m2025-01-28 16:35:28.546\u001b[0m | \u001b[1mINFO    \u001b[0m | \u001b[36mprocess\u001b[0m:\u001b[36mreduce_mem_usage\u001b[0m:\u001b[36m166\u001b[0m - \u001b[1mMem. usage decreased to  7.28 Mb (57.4% reduction)\u001b[0m\n"
     ]
    },
    {
     "name": "stdout",
     "output_type": "stream",
     "text": [
      "(3141, 33)\n",
      "File ./predicted_data/WI_HOUSEHOLD_part.parquet created!\n"
     ]
    },
    {
     "name": "stderr",
     "output_type": "stream",
     "text": [
      "\u001b[32m2025-01-28 16:35:33.172\u001b[0m | \u001b[1mINFO    \u001b[0m | \u001b[36mprocess\u001b[0m:\u001b[36mreduce_mem_usage\u001b[0m:\u001b[36m166\u001b[0m - \u001b[1mMem. usage decreased to  7.28 Mb (57.4% reduction)\u001b[0m\n"
     ]
    },
    {
     "name": "stdout",
     "output_type": "stream",
     "text": [
      "(3141, 33)\n",
      "File ./predicted_data/TX_HOUSEHOLD_part.parquet created!\n"
     ]
    },
    {
     "data": {
      "image/png": "[encoded data removed]",
      "text/plain": [
       "<Figure size 640x480 with 1 Axes>"
      ]
     },
     "metadata": {},
     "output_type": "display_data"
    }
   ],
   "source": [
    "# print(\"Data file:\", file)\n",
    "print(\"Data shape:\", data_test.shape)\n",
    "\n",
    "selected_ids = [c for c in id_cols if c not in [\"id\"]]\n",
    "os.makedirs(output_folder, exist_ok=True)\n",
    "\n",
    "for model_path in model_paths:\n",
    "    state, cat_id = model_path.split(\"_\")[1:3]\n",
    "\n",
    "    # Load data\n",
    "    df_val = get_input_data(\n",
    "        data=data_test,\n",
    "        prices=prices,\n",
    "        calendar=calendar,\n",
    "        state_id=state,\n",
    "        cat_id=cat_id,\n",
    "        # item_id=selected_item,\n",
    "        drop_columns=[],\n",
    "    )\n",
    "    df_val = prepare_datasets(df_val)\n",
    "    df_val = reduce_mem_usage(df_val)\n",
    "    # print(\"Data for validation:\", df_val.shape)\n",
    "    # df_val.head()\n",
    "\n",
    "    # Load Model\n",
    "    model = joblib.load(model_path)\n",
    "    df_val[\"sales_predicted\"] = model.predict(df_val)\n",
    "\n",
    "    # Assess Predictions\n",
    "    y_val = df_val[\"sales\"]\n",
    "    y_val_pred = df_val[\"sales_predicted\"]\n",
    "\n",
    "    plot_actual_vs_pred(y_val, y_val_pred)\n",
    "    model_metrics = compute_metrics(y_val, y_val_pred)\n",
    "    pd.DataFrame({\"TestValidation\": model_metrics}).T\n",
    "\n",
    "    # Create submission part\n",
    "    submission_part = compute_submission(df_val=df_val, selected_ids=selected_ids)\n",
    "    test_volume(submission=submission_part, df_val=df_val)\n",
    "    print(submission_part.shape)\n",
    "    file_path = os.path.join(output_folder, f\"{state}_{cat_id}_part.parquet\")\n",
    "    submission_part.to_parquet(file_path, index=False)\n",
    "    print(f\"File {file_path} created!\")"
   ]
  },
  {
   "cell_type": "markdown",
   "id": "05dc6e2b-9f2f-47b4-a68b-3b342dcd7a2f",
   "metadata": {},
   "source": [
    "# Create Submission\n"
   ]
  },
  {
   "cell_type": "code",
   "execution_count": 33,
   "id": "b7d150b2-ef0d-422e-b2c7-38f14a5a7d7b",
   "metadata": {},
   "outputs": [
    {
     "data": {
      "text/html": [
       "<div>\n",
       "<style scoped>\n",
       "    .dataframe tbody tr th:only-of-type {\n",
       "        vertical-align: middle;\n",
       "    }\n",
       "\n",
       "    .dataframe tbody tr th {\n",
       "        vertical-align: top;\n",
       "    }\n",
       "\n",
       "    .dataframe thead th {\n",
       "        text-align: right;\n",
       "    }\n",
       "</style>\n",
       "<table border=\"1\" class=\"dataframe\">\n",
       "  <thead>\n",
       "    <tr style=\"text-align: right;\">\n",
       "      <th></th>\n",
       "      <th>item_id</th>\n",
       "      <th>dept_id</th>\n",
       "      <th>cat_id</th>\n",
       "      <th>store_id</th>\n",
       "      <th>state_id</th>\n",
       "      <th>d_1942</th>\n",
       "      <th>d_1943</th>\n",
       "      <th>d_1944</th>\n",
       "      <th>d_1945</th>\n",
       "      <th>d_1946</th>\n",
       "      <th>...</th>\n",
       "      <th>d_1960</th>\n",
       "      <th>d_1961</th>\n",
       "      <th>d_1962</th>\n",
       "      <th>d_1963</th>\n",
       "      <th>d_1964</th>\n",
       "      <th>d_1965</th>\n",
       "      <th>d_1966</th>\n",
       "      <th>d_1967</th>\n",
       "      <th>d_1968</th>\n",
       "      <th>d_1969</th>\n",
       "    </tr>\n",
       "  </thead>\n",
       "  <tbody>\n",
       "    <tr>\n",
       "      <th>0</th>\n",
       "      <td>HOBBIES_1_001</td>\n",
       "      <td>HOBBIES_1</td>\n",
       "      <td>HOBBIES</td>\n",
       "      <td>TX_1</td>\n",
       "      <td>TX</td>\n",
       "      <td>0.0</td>\n",
       "      <td>0.0</td>\n",
       "      <td>0.0</td>\n",
       "      <td>0.0</td>\n",
       "      <td>0.0</td>\n",
       "      <td>...</td>\n",
       "      <td>0.0</td>\n",
       "      <td>0.0</td>\n",
       "      <td>0.0</td>\n",
       "      <td>0.0</td>\n",
       "      <td>0.0</td>\n",
       "      <td>0.0</td>\n",
       "      <td>0.0</td>\n",
       "      <td>0.0</td>\n",
       "      <td>0.0</td>\n",
       "      <td>0.0</td>\n",
       "    </tr>\n",
       "    <tr>\n",
       "      <th>1</th>\n",
       "      <td>HOBBIES_1_001</td>\n",
       "      <td>HOBBIES_1</td>\n",
       "      <td>HOBBIES</td>\n",
       "      <td>TX_2</td>\n",
       "      <td>TX</td>\n",
       "      <td>0.0</td>\n",
       "      <td>0.0</td>\n",
       "      <td>0.0</td>\n",
       "      <td>0.0</td>\n",
       "      <td>0.0</td>\n",
       "      <td>...</td>\n",
       "      <td>0.0</td>\n",
       "      <td>0.0</td>\n",
       "      <td>0.0</td>\n",
       "      <td>0.0</td>\n",
       "      <td>0.0</td>\n",
       "      <td>0.0</td>\n",
       "      <td>0.0</td>\n",
       "      <td>0.0</td>\n",
       "      <td>0.0</td>\n",
       "      <td>1.0</td>\n",
       "    </tr>\n",
       "    <tr>\n",
       "      <th>2</th>\n",
       "      <td>HOBBIES_1_001</td>\n",
       "      <td>HOBBIES_1</td>\n",
       "      <td>HOBBIES</td>\n",
       "      <td>TX_3</td>\n",
       "      <td>TX</td>\n",
       "      <td>1.0</td>\n",
       "      <td>1.0</td>\n",
       "      <td>1.0</td>\n",
       "      <td>1.0</td>\n",
       "      <td>1.0</td>\n",
       "      <td>...</td>\n",
       "      <td>1.0</td>\n",
       "      <td>1.0</td>\n",
       "      <td>1.0</td>\n",
       "      <td>1.0</td>\n",
       "      <td>1.0</td>\n",
       "      <td>1.0</td>\n",
       "      <td>1.0</td>\n",
       "      <td>1.0</td>\n",
       "      <td>1.0</td>\n",
       "      <td>2.0</td>\n",
       "    </tr>\n",
       "    <tr>\n",
       "      <th>3</th>\n",
       "      <td>HOBBIES_1_002</td>\n",
       "      <td>HOBBIES_1</td>\n",
       "      <td>HOBBIES</td>\n",
       "      <td>TX_1</td>\n",
       "      <td>TX</td>\n",
       "      <td>0.0</td>\n",
       "      <td>0.0</td>\n",
       "      <td>0.0</td>\n",
       "      <td>0.0</td>\n",
       "      <td>0.0</td>\n",
       "      <td>...</td>\n",
       "      <td>0.0</td>\n",
       "      <td>0.0</td>\n",
       "      <td>0.0</td>\n",
       "      <td>0.0</td>\n",
       "      <td>0.0</td>\n",
       "      <td>0.0</td>\n",
       "      <td>0.0</td>\n",
       "      <td>0.0</td>\n",
       "      <td>0.0</td>\n",
       "      <td>1.0</td>\n",
       "    </tr>\n",
       "    <tr>\n",
       "      <th>4</th>\n",
       "      <td>HOBBIES_1_002</td>\n",
       "      <td>HOBBIES_1</td>\n",
       "      <td>HOBBIES</td>\n",
       "      <td>TX_2</td>\n",
       "      <td>TX</td>\n",
       "      <td>0.0</td>\n",
       "      <td>0.0</td>\n",
       "      <td>0.0</td>\n",
       "      <td>0.0</td>\n",
       "      <td>0.0</td>\n",
       "      <td>...</td>\n",
       "      <td>0.0</td>\n",
       "      <td>0.0</td>\n",
       "      <td>0.0</td>\n",
       "      <td>0.0</td>\n",
       "      <td>0.0</td>\n",
       "      <td>0.0</td>\n",
       "      <td>0.0</td>\n",
       "      <td>0.0</td>\n",
       "      <td>0.0</td>\n",
       "      <td>0.0</td>\n",
       "    </tr>\n",
       "    <tr>\n",
       "      <th>...</th>\n",
       "      <td>...</td>\n",
       "      <td>...</td>\n",
       "      <td>...</td>\n",
       "      <td>...</td>\n",
       "      <td>...</td>\n",
       "      <td>...</td>\n",
       "      <td>...</td>\n",
       "      <td>...</td>\n",
       "      <td>...</td>\n",
       "      <td>...</td>\n",
       "      <td>...</td>\n",
       "      <td>...</td>\n",
       "      <td>...</td>\n",
       "      <td>...</td>\n",
       "      <td>...</td>\n",
       "      <td>...</td>\n",
       "      <td>...</td>\n",
       "      <td>...</td>\n",
       "      <td>...</td>\n",
       "      <td>...</td>\n",
       "      <td>...</td>\n",
       "    </tr>\n",
       "    <tr>\n",
       "      <th>30485</th>\n",
       "      <td>FOODS_3_826</td>\n",
       "      <td>FOODS_3</td>\n",
       "      <td>FOODS</td>\n",
       "      <td>WI_2</td>\n",
       "      <td>WI</td>\n",
       "      <td>0.0</td>\n",
       "      <td>0.0</td>\n",
       "      <td>0.0</td>\n",
       "      <td>0.0</td>\n",
       "      <td>0.0</td>\n",
       "      <td>...</td>\n",
       "      <td>0.0</td>\n",
       "      <td>0.0</td>\n",
       "      <td>1.0</td>\n",
       "      <td>1.0</td>\n",
       "      <td>0.0</td>\n",
       "      <td>0.0</td>\n",
       "      <td>1.0</td>\n",
       "      <td>1.0</td>\n",
       "      <td>1.0</td>\n",
       "      <td>2.0</td>\n",
       "    </tr>\n",
       "    <tr>\n",
       "      <th>30486</th>\n",
       "      <td>FOODS_3_826</td>\n",
       "      <td>FOODS_3</td>\n",
       "      <td>FOODS</td>\n",
       "      <td>WI_3</td>\n",
       "      <td>WI</td>\n",
       "      <td>0.0</td>\n",
       "      <td>0.0</td>\n",
       "      <td>0.0</td>\n",
       "      <td>0.0</td>\n",
       "      <td>0.0</td>\n",
       "      <td>...</td>\n",
       "      <td>1.0</td>\n",
       "      <td>0.0</td>\n",
       "      <td>0.0</td>\n",
       "      <td>0.0</td>\n",
       "      <td>0.0</td>\n",
       "      <td>0.0</td>\n",
       "      <td>1.0</td>\n",
       "      <td>0.0</td>\n",
       "      <td>0.0</td>\n",
       "      <td>2.0</td>\n",
       "    </tr>\n",
       "    <tr>\n",
       "      <th>30487</th>\n",
       "      <td>FOODS_3_827</td>\n",
       "      <td>FOODS_3</td>\n",
       "      <td>FOODS</td>\n",
       "      <td>WI_1</td>\n",
       "      <td>WI</td>\n",
       "      <td>0.0</td>\n",
       "      <td>0.0</td>\n",
       "      <td>0.0</td>\n",
       "      <td>0.0</td>\n",
       "      <td>0.0</td>\n",
       "      <td>...</td>\n",
       "      <td>0.0</td>\n",
       "      <td>0.0</td>\n",
       "      <td>0.0</td>\n",
       "      <td>0.0</td>\n",
       "      <td>1.0</td>\n",
       "      <td>1.0</td>\n",
       "      <td>1.0</td>\n",
       "      <td>1.0</td>\n",
       "      <td>1.0</td>\n",
       "      <td>3.0</td>\n",
       "    </tr>\n",
       "    <tr>\n",
       "      <th>30488</th>\n",
       "      <td>FOODS_3_827</td>\n",
       "      <td>FOODS_3</td>\n",
       "      <td>FOODS</td>\n",
       "      <td>WI_2</td>\n",
       "      <td>WI</td>\n",
       "      <td>0.0</td>\n",
       "      <td>0.0</td>\n",
       "      <td>0.0</td>\n",
       "      <td>0.0</td>\n",
       "      <td>0.0</td>\n",
       "      <td>...</td>\n",
       "      <td>1.0</td>\n",
       "      <td>0.0</td>\n",
       "      <td>0.0</td>\n",
       "      <td>0.0</td>\n",
       "      <td>1.0</td>\n",
       "      <td>1.0</td>\n",
       "      <td>1.0</td>\n",
       "      <td>1.0</td>\n",
       "      <td>1.0</td>\n",
       "      <td>2.0</td>\n",
       "    </tr>\n",
       "    <tr>\n",
       "      <th>30489</th>\n",
       "      <td>FOODS_3_827</td>\n",
       "      <td>FOODS_3</td>\n",
       "      <td>FOODS</td>\n",
       "      <td>WI_3</td>\n",
       "      <td>WI</td>\n",
       "      <td>0.0</td>\n",
       "      <td>0.0</td>\n",
       "      <td>0.0</td>\n",
       "      <td>0.0</td>\n",
       "      <td>0.0</td>\n",
       "      <td>...</td>\n",
       "      <td>0.0</td>\n",
       "      <td>0.0</td>\n",
       "      <td>0.0</td>\n",
       "      <td>0.0</td>\n",
       "      <td>0.0</td>\n",
       "      <td>0.0</td>\n",
       "      <td>0.0</td>\n",
       "      <td>0.0</td>\n",
       "      <td>0.0</td>\n",
       "      <td>2.0</td>\n",
       "    </tr>\n",
       "  </tbody>\n",
       "</table>\n",
       "<p>30490 rows × 33 columns</p>\n",
       "</div>"
      ],
      "text/plain": [
       "             item_id    dept_id   cat_id store_id state_id  d_1942  d_1943  \\\n",
       "0      HOBBIES_1_001  HOBBIES_1  HOBBIES     TX_1       TX     0.0     0.0   \n",
       "1      HOBBIES_1_001  HOBBIES_1  HOBBIES     TX_2       TX     0.0     0.0   \n",
       "2      HOBBIES_1_001  HOBBIES_1  HOBBIES     TX_3       TX     1.0     1.0   \n",
       "3      HOBBIES_1_002  HOBBIES_1  HOBBIES     TX_1       TX     0.0     0.0   \n",
       "4      HOBBIES_1_002  HOBBIES_1  HOBBIES     TX_2       TX     0.0     0.0   \n",
       "...              ...        ...      ...      ...      ...     ...     ...   \n",
       "30485    FOODS_3_826    FOODS_3    FOODS     WI_2       WI     0.0     0.0   \n",
       "30486    FOODS_3_826    FOODS_3    FOODS     WI_3       WI     0.0     0.0   \n",
       "30487    FOODS_3_827    FOODS_3    FOODS     WI_1       WI     0.0     0.0   \n",
       "30488    FOODS_3_827    FOODS_3    FOODS     WI_2       WI     0.0     0.0   \n",
       "30489    FOODS_3_827    FOODS_3    FOODS     WI_3       WI     0.0     0.0   \n",
       "\n",
       "       d_1944  d_1945  d_1946  ...  d_1960  d_1961  d_1962  d_1963  d_1964  \\\n",
       "0         0.0     0.0     0.0  ...     0.0     0.0     0.0     0.0     0.0   \n",
       "1         0.0     0.0     0.0  ...     0.0     0.0     0.0     0.0     0.0   \n",
       "2         1.0     1.0     1.0  ...     1.0     1.0     1.0     1.0     1.0   \n",
       "3         0.0     0.0     0.0  ...     0.0     0.0     0.0     0.0     0.0   \n",
       "4         0.0     0.0     0.0  ...     0.0     0.0     0.0     0.0     0.0   \n",
       "...       ...     ...     ...  ...     ...     ...     ...     ...     ...   \n",
       "30485     0.0     0.0     0.0  ...     0.0     0.0     1.0     1.0     0.0   \n",
       "30486     0.0     0.0     0.0  ...     1.0     0.0     0.0     0.0     0.0   \n",
       "30487     0.0     0.0     0.0  ...     0.0     0.0     0.0     0.0     1.0   \n",
       "30488     0.0     0.0     0.0  ...     1.0     0.0     0.0     0.0     1.0   \n",
       "30489     0.0     0.0     0.0  ...     0.0     0.0     0.0     0.0     0.0   \n",
       "\n",
       "       d_1965  d_1966  d_1967  d_1968  d_1969  \n",
       "0         0.0     0.0     0.0     0.0     0.0  \n",
       "1         0.0     0.0     0.0     0.0     1.0  \n",
       "2         1.0     1.0     1.0     1.0     2.0  \n",
       "3         0.0     0.0     0.0     0.0     1.0  \n",
       "4         0.0     0.0     0.0     0.0     0.0  \n",
       "...       ...     ...     ...     ...     ...  \n",
       "30485     0.0     1.0     1.0     1.0     2.0  \n",
       "30486     0.0     1.0     0.0     0.0     2.0  \n",
       "30487     1.0     1.0     1.0     1.0     3.0  \n",
       "30488     1.0     1.0     1.0     1.0     2.0  \n",
       "30489     0.0     0.0     0.0     0.0     2.0  \n",
       "\n",
       "[30490 rows x 33 columns]"
      ]
     },
     "metadata": {},
     "output_type": "display_data"
    }
   ],
   "source": [
    "import glob\n",
    "\n",
    "# Obtener todos los archivos Parquet de la carpeta\n",
    "parquet_files = glob.glob(os.path.join(output_folder, \"*.parquet\"))\n",
    "\n",
    "# Leer y concatenar todos los DataFrames\n",
    "dataframes = [pd.read_parquet(file) for file in parquet_files]\n",
    "submission = pd.concat(dataframes, ignore_index=True)\n",
    "print(submission.shape)\n",
    "display(submission)"
   ]
  },
  {
   "cell_type": "code",
   "execution_count": null,
   "id": "f5808a5f-8455-46d8-b184-25342c1a32cb",
   "metadata": {},
   "outputs": [],
   "source": []
  }
 ],
 "metadata": {
  "kernelspec": {
   "display_name": "retail-demand-forecast",
   "language": "python",
   "name": "retail_demand_forecast_venv"
  },
  "language_info": {
   "codemirror_mode": {
    "name": "ipython",
    "version": 3
   },
   "file_extension": ".py",
   "mimetype": "text/x-python",
   "name": "python",
   "nbconvert_exporter": "python",
   "pygments_lexer": "ipython3",
   "version": "3.10.12"
  }
 },
 "nbformat": 4,
 "nbformat_minor": 5
}
