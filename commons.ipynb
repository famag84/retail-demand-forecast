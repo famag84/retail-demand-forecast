{
 "cells": [
  {
   "cell_type": "code",
   "execution_count": 1,
   "id": "b0feb05e-b43a-4020-a334-e26985b48244",
   "metadata": {},
   "outputs": [
    {
     "data": {
      "text/plain": [
       "'v0.4.0'"
      ]
     },
     "execution_count": 1,
     "metadata": {},
     "output_type": "execute_result"
    }
   ],
   "source": [
    "import jupyter_black\n",
    "\n",
    "kwargs = {\"line_length\": 120}\n",
    "jupyter_black.load(**kwargs)\n",
    "jupyter_black.__version__"
   ]
  },
  {
   "cell_type": "code",
   "execution_count": null,
   "id": "e07bf79a-4d75-4b4f-8a67-ed0a14af6dab",
   "metadata": {},
   "outputs": [],
   "source": []
  }
 ],
 "metadata": {
  "kernelspec": {
   "display_name": "retail-demand-forecast",
   "language": "python",
   "name": "retail_demand_forecast_venv"
  },
  "language_info": {
   "codemirror_mode": {
    "name": "ipython",
    "version": 3
   },
   "file_extension": ".py",
   "mimetype": "text/x-python",
   "name": "python",
   "nbconvert_exporter": "python",
   "pygments_lexer": "ipython3",
   "version": "3.10.12"
  }
 },
 "nbformat": 4,
 "nbformat_minor": 5
}
